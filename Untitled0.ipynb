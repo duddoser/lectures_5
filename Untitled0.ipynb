{
  "nbformat": 4,
  "nbformat_minor": 0,
  "metadata": {
    "colab": {
      "provenance": []
    },
    "kernelspec": {
      "name": "python3",
      "display_name": "Python 3"
    },
    "language_info": {
      "name": "python"
    }
  },
  "cells": [
    {
      "cell_type": "code",
      "source": [
        "from functools import lru_cache\n",
        "\n",
        "@lru_cache\n",
        "def factorial(n):\n",
        "  if n == 1 or n == 0:\n",
        "    return 1\n",
        "  return n * factorial(n - 1)"
      ],
      "metadata": {
        "id": "7ZwwZ4glshNw"
      },
      "execution_count": 1,
      "outputs": []
    },
    {
      "cell_type": "code",
      "source": [
        "def sin(precision, x, k=1):\n",
        "  a = (-1) ** (k - 1) * x ** (2 * k - 1) / factorial(2 * k - 1)\n",
        "  if a < precision:\n",
        "    return a\n",
        "  return sin(precision, x, k + 1)"
      ],
      "metadata": {
        "id": "52gDywkcrMeK"
      },
      "execution_count": 3,
      "outputs": []
    },
    {
      "cell_type": "code",
      "execution_count": 4,
      "metadata": {
        "id": "7AjLlmcaq-RA"
      },
      "outputs": [],
      "source": [
        "def cos(precision, x, k=0):\n",
        "  a = (-1) ** k * x ** (2 * k) / factorial(2 * k)\n",
        "  if a < precision:\n",
        "    return a\n",
        "  return sin(precision, x, k + 1)"
      ]
    },
    {
      "cell_type": "code",
      "source": [
        "import numpy as np\n",
        "\n",
        "\n",
        "def ans(precision, x):\n",
        "  while abs(x) >= 2 * np.pi:\n",
        "    x /= 2 * np.pi\n",
        "  if abs(x) >= np.pi / 2:\n",
        "    x -= np.sign(x) * np.pi\n",
        "  if abs(x) >= np.pi / 4:\n",
        "    return np.sign(x) * sin(precision, -1 * np.sign(x) * np.pi + x)\n",
        "  return cos(precision, x)\n",
        "\n",
        "\n",
        "precision = float(input('Введите точность: '))\n",
        "x = float(input('Введите х: '))\n",
        "\n",
        "print(ans(precision, x))\n",
        "\n"
      ],
      "metadata": {
        "colab": {
          "base_uri": "https://localhost:8080/"
        },
        "id": "kP1abFXVwKlL",
        "outputId": "c815ce57-8d2a-45e0-bee3-e8d97462a820"
      },
      "execution_count": 7,
      "outputs": [
        {
          "output_type": "stream",
          "name": "stdout",
          "text": [
            "Введите точность: 0.0000001\n",
            "Введите х: 70\n",
            "0.9291025659908265\n"
          ]
        }
      ]
    }
  ]
}